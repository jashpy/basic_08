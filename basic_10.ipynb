{
 "cells": [
  {
   "cell_type": "markdown",
   "id": "c05c0ef0-1ea0-4d70-a693-2dd9dc689f67",
   "metadata": {},
   "source": [
    "problem-1"
   ]
  },
  {
   "cell_type": "code",
   "execution_count": 1,
   "id": "5d79e3da-133f-457b-89b7-5272358814bb",
   "metadata": {},
   "outputs": [
    {
     "data": {
      "text/plain": [
       "'ans.In basic language we can say that multithreading is performing various programmes and operations on a\\nsingle core.It is used for the efficient utilisation of space and somehow increase the performance also.\\nThreading module is used to handle threads in python.'"
      ]
     },
     "execution_count": 1,
     "metadata": {},
     "output_type": "execute_result"
    }
   ],
   "source": [
    "#q1). what is multithreading in python? why is it used? Name the module used to handle threads in python\n",
    "'''ans.In basic language we can say that multithreading is performing various programmes and operations on a\n",
    "single core.It is used for the efficient utilisation of space and somehow increase the performance also.\n",
    "Threading module is used to handle threads in python.'''"
   ]
  },
  {
   "cell_type": "markdown",
   "id": "2b700baf-307b-4f3f-9797-cb45f936f669",
   "metadata": {},
   "source": [
    "problem-2"
   ]
  },
  {
   "cell_type": "code",
   "execution_count": 2,
   "id": "68d137c4-5249-4fdf-bad3-c667ce6e474c",
   "metadata": {},
   "outputs": [
    {
     "data": {
      "text/plain": [
       "\"ans-->by importing the threading module we can handle the threads and able to perform \\nmultithreading process.\\n1)activeCount():gives the number of threads are currently performing or operating.\\n2)currentThread():getting the number of threads objects that are in caller's thread control.\\n3)enumerate():returns a list of all currently active threads.\""
      ]
     },
     "execution_count": 2,
     "metadata": {},
     "output_type": "execute_result"
    }
   ],
   "source": [
    "'''q2)why threading module used? write the use of the following functions\n",
    "1)activeCount()\n",
    "2)currentThread()\n",
    "3) enumerate()'''\n",
    "\n",
    "'''ans-->by importing the threading module we can handle the threads and able to perform \n",
    "multithreading process.\n",
    "1)activeCount():gives the number of threads are currently performing or operating.\n",
    "2)currentThread():getting the number of threads objects that are in caller's thread control.\n",
    "3)enumerate():returns a list of all currently active threads.'''\n"
   ]
  },
  {
   "cell_type": "markdown",
   "id": "b6667d15-217c-4dca-9273-c6da0a13d65c",
   "metadata": {},
   "source": [
    "problem-3"
   ]
  },
  {
   "cell_type": "code",
   "execution_count": 3,
   "id": "dd6e17aa-bf7b-447d-b627-7eaa9e152369",
   "metadata": {},
   "outputs": [
    {
     "data": {
      "text/plain": [
       "'ans-\\n1)run():run() method basically is the starting of the thread program.\\n2))start(): it is used to call the run method.calling after which the threading is executed.\\n3)join(): join methods waits for the thread to terminate.\\n4)isAlive(): this method basically check whether whether a thread is still executing or not.'"
      ]
     },
     "execution_count": 3,
     "metadata": {},
     "output_type": "execute_result"
    }
   ],
   "source": [
    "'''q3). Explain the following functions\n",
    "1)run()\n",
    "2)start()\n",
    "3)join()\n",
    "4)isAlive()'''\n",
    "\n",
    "'''ans-\n",
    "1)run():run() method basically is the starting of the thread program.\n",
    "2))start(): it is used to call the run method.calling after which the threading is executed.\n",
    "3)join(): join methods waits for the thread to terminate.\n",
    "4)isAlive(): this method basically check whether whether a thread is still executing or not.'''"
   ]
  },
  {
   "cell_type": "markdown",
   "id": "56d8294e-577f-4f97-b034-bc123d87c72c",
   "metadata": {},
   "source": [
    "problem-4"
   ]
  },
  {
   "cell_type": "code",
   "execution_count": 4,
   "id": "2919f283-b607-43c8-a69a-3b1c4c466865",
   "metadata": {},
   "outputs": [
    {
     "data": {
      "text/plain": [
       "'if __name__ ==\"__main__\":\\n    thread1=[threading.Thread(target=get_square , args=(l1[i]),)for i in range(len(l1))]\\n    thread2=[threading.Thread(target=get_cube , args=(l1[i],)) for i in range(len(l1))]\\n \\nfor t in thread1:\\n    thread1.start()'"
      ]
     },
     "execution_count": 4,
     "metadata": {},
     "output_type": "execute_result"
    }
   ],
   "source": [
    "'''q4). write a python program to create two threads. Thread one must print the list of squares and thread\n",
    "two must print the list of cubes.'''\n",
    "\n",
    "import threading\n",
    "def get_square(l):\n",
    "    return [i ** 2 for i in l]\n",
    "\n",
    "def get_cube(l):\n",
    "    return [i**3 for i in l]\n",
    "\n",
    "l1=[1,2,3,4]\n",
    "'''if __name__ ==\"__main__\":\n",
    "    thread1=[threading.Thread(target=get_square , args=(l1[i]),)for i in range(len(l1))]\n",
    "    thread2=[threading.Thread(target=get_cube , args=(l1[i],)) for i in range(len(l1))]\n",
    " \n",
    "for t in thread1:\n",
    "    thread1.start()'''"
   ]
  },
  {
   "cell_type": "code",
   "execution_count": 5,
   "id": "cbc3bae8-c504-4efa-98a1-d57970896b3d",
   "metadata": {},
   "outputs": [],
   "source": [
    "thread1=[threading.Thread(target=get_square,args=(l1[i])) for i in range(len(l1))]\n",
    "thread2=[threading.Thread(target=get_cube,args=(l1[i])) for i in range(len(l1))]"
   ]
  },
  {
   "cell_type": "markdown",
   "id": "1cde7307-762d-4cda-bbe8-11a468481b65",
   "metadata": {},
   "source": [
    "problem-5"
   ]
  },
  {
   "cell_type": "code",
   "execution_count": 6,
   "id": "dbf99cbe-aa99-4ec2-94ed-1690d7e716b7",
   "metadata": {},
   "outputs": [
    {
     "data": {
      "text/plain": [
       "'ans-\\nadvantages:\\nIt is used for the efficient utilisation of space and somehow increase the performance also.\\ndecreased development time.\\nless cost of maintenance.\\n\\ndisadvantages:\\ncomplexity.\\nlimitations on hardware.'"
      ]
     },
     "execution_count": 6,
     "metadata": {},
     "output_type": "execute_result"
    }
   ],
   "source": [
    "#q5. State advantages and disadvantages of multithreading\n",
    "'''ans-\n",
    "advantages:\n",
    "It is used for the efficient utilisation of space and somehow increase the performance also.\n",
    "decreased development time.\n",
    "less cost of maintenance.\n",
    "\n",
    "disadvantages:\n",
    "complexity.\n",
    "limitations on hardware.'''"
   ]
  },
  {
   "cell_type": "markdown",
   "id": "dcac4bc2-aad8-4250-b108-b78a6519ace7",
   "metadata": {},
   "source": [
    "problem-6"
   ]
  },
  {
   "cell_type": "code",
   "execution_count": 7,
   "id": "671fb6ed-a60b-4692-8bb2-fb45550999bc",
   "metadata": {},
   "outputs": [
    {
     "data": {
      "text/plain": [
       "'ans-race condition:\\nin race conditions two threads have the competition of beating each other.both access the same variable,\\ndeadlock conditions:\\nin this condition two threads seek the same lock.in this both the threads waits.\\n\\nin both the process this conditions stop the theads and stop the program from execution.'"
      ]
     },
     "execution_count": 7,
     "metadata": {},
     "output_type": "execute_result"
    }
   ],
   "source": [
    "#q6). Explain deadlocks and race conditions.\n",
    "'''ans-race condition:\n",
    "in race conditions two threads have the competition of beating each other.both access the same variable,\n",
    "deadlock conditions:\n",
    "in this condition two threads seek the same lock.in this both the threads waits.\n",
    "\n",
    "in both the process this conditions stop the theads and stop the program from execution.'''"
   ]
  },
  {
   "cell_type": "code",
   "execution_count": null,
   "id": "83fc40d3-b44e-4256-a8d9-3f2b67503536",
   "metadata": {},
   "outputs": [],
   "source": []
  }
 ],
 "metadata": {
  "kernelspec": {
   "display_name": "Python 3 (ipykernel)",
   "language": "python",
   "name": "python3"
  },
  "language_info": {
   "codemirror_mode": {
    "name": "ipython",
    "version": 3
   },
   "file_extension": ".py",
   "mimetype": "text/x-python",
   "name": "python",
   "nbconvert_exporter": "python",
   "pygments_lexer": "ipython3",
   "version": "3.10.8"
  }
 },
 "nbformat": 4,
 "nbformat_minor": 5
}
