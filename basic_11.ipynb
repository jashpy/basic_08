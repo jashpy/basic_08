{
 "cells": [
  {
   "cell_type": "markdown",
   "id": "7d605507-87bc-4804-b56c-4e0751308766",
   "metadata": {},
   "source": [
    "problem-1"
   ]
  },
  {
   "cell_type": "code",
   "execution_count": 1,
   "id": "6f3186d4-5dcf-4f87-8eab-802102f16bff",
   "metadata": {},
   "outputs": [
    {
     "data": {
      "text/plain": [
       "'ans-->in basic language we can say that all the processes can run simultaneously at a time\\nby using this built-in package in python.\\nit is useful because:\\n1)allow programs to breaks into chunk and run independently\\n2)more than one processor at a time means increase in speed which reduces time.\\n3)enhanced performance.'"
      ]
     },
     "execution_count": 1,
     "metadata": {},
     "output_type": "execute_result"
    }
   ],
   "source": [
    "#Q1. What is multiprocessing in python? Why is it useful?\n",
    "'''ans-->in basic language we can say that all the processes can run simultaneously at a time\n",
    "by using this built-in package in python.\n",
    "it is useful because:\n",
    "1)allow programs to breaks into chunk and run independently\n",
    "2)more than one processor at a time means increase in speed which reduces time.\n",
    "3)enhanced performance.'''"
   ]
  },
  {
   "cell_type": "markdown",
   "id": "70f894d3-f935-45c8-b1f1-3894c0a06261",
   "metadata": {},
   "source": [
    "problem-2"
   ]
  },
  {
   "cell_type": "code",
   "execution_count": 2,
   "id": "af23ca85-1793-4b8f-80ed-bd236ffde4e5",
   "metadata": {},
   "outputs": [
    {
     "data": {
      "text/plain": [
       "'ans-multiprocessing is run the programs at different processors while multithreading means \\nrunning different programs/threads on a single core.\\nmultithreading aims to enhance the performance by decreasing the space complexity whereas \\nmultiprocessing aims to enhance the performace by decreasing the time complexity .'"
      ]
     },
     "execution_count": 2,
     "metadata": {},
     "output_type": "execute_result"
    }
   ],
   "source": [
    "#Q2. What are the differences between multiprocessing and multithreading?\n",
    "'''ans-multiprocessing is run the programs at different processors while multithreading means \n",
    "running different programs/threads on a single core.\n",
    "multithreading aims to enhance the performance by decreasing the space complexity whereas \n",
    "multiprocessing aims to enhance the performace by decreasing the time complexity .'''"
   ]
  },
  {
   "cell_type": "markdown",
   "id": "9f46a3d8-821f-4d4e-97a1-35daab5ef56c",
   "metadata": {},
   "source": [
    "problem-3"
   ]
  },
  {
   "cell_type": "code",
   "execution_count": 3,
   "id": "e1c82860-a3c4-4c78-8602-1ca3123f69fb",
   "metadata": {},
   "outputs": [
    {
     "name": "stdout",
     "output_type": "stream",
     "text": [
      "welcome to the program\n",
      "please write your code to run\n"
     ]
    }
   ],
   "source": [
    "#Q3. Write a python code to create a process using the multiprocessing module.\n",
    "import multiprocessing\n",
    "\n",
    "def msg():\n",
    "    print(\"please write your code to run\")\n",
    "\n",
    "if __name__=='__main__':\n",
    "    n=multiprocessing.Process(target=msg)\n",
    "    print(\"welcome to the program\")\n",
    "    n.start()\n",
    "    n.join()\n",
    "    \n",
    "    "
   ]
  },
  {
   "cell_type": "markdown",
   "id": "73755d75-4dd9-4517-bd6e-3290114f86cb",
   "metadata": {},
   "source": [
    "problem-4"
   ]
  },
  {
   "cell_type": "code",
   "execution_count": 4,
   "id": "ee3365be-f7f4-482e-834f-c456d2573a82",
   "metadata": {},
   "outputs": [
    {
     "data": {
      "text/plain": [
       "'ans-pool class represents the pool of worker process.simultaneously it runs \\nthe function for multiple number of inputs on various process.\\nmaking the computation easy,faster and enhanced performance.'"
      ]
     },
     "execution_count": 4,
     "metadata": {},
     "output_type": "execute_result"
    }
   ],
   "source": [
    "#Q4. What is a multiprocessing pool in python? Why is it used?\n",
    "'''ans-pool class represents the pool of worker process.simultaneously it runs \n",
    "the function for multiple number of inputs on various process.\n",
    "making the computation easy,faster and enhanced performance.'''"
   ]
  },
  {
   "cell_type": "markdown",
   "id": "1a49495a-50fd-4918-bb6f-dbae07d0583d",
   "metadata": {},
   "source": [
    "problem-5"
   ]
  },
  {
   "cell_type": "code",
   "execution_count": 5,
   "id": "d38ee854-878a-40cf-a8bc-8cd45e1a8404",
   "metadata": {},
   "outputs": [
    {
     "name": "stdout",
     "output_type": "stream",
     "text": [
      "[1, 9, 25, 49]\n"
     ]
    }
   ],
   "source": [
    "#Q5. How can we create a pool of worker processes in python using the multiprocessing module?\n",
    "'''ans-by using \"multiprocessing.pool\".\n",
    "below is a solved example.'''\n",
    "\n",
    "def square(num):\n",
    "    return num**2\n",
    "\n",
    "if __name__ == '__main__':\n",
    "    with multiprocessing.Pool(processes=3) as pool : \n",
    "        num_square = pool.map(square , [1,3,5,7])\n",
    "        print( num_square)\n",
    "\n",
    "        \n"
   ]
  },
  {
   "cell_type": "markdown",
   "id": "19ca99a4-9ccb-47f4-b121-7dbfde9a86e6",
   "metadata": {},
   "source": [
    "problem-6"
   ]
  },
  {
   "cell_type": "code",
   "execution_count": null,
   "id": "2aad35d4-90d6-451c-a618-5327543dac4b",
   "metadata": {
    "tags": []
   },
   "outputs": [],
   "source": [
    "from multiprocessing import Queue  \n",
    "  \n",
    "num = [1,2,3,4]  \n",
    "count = 1  \n",
    "\n",
    "queue = Queue()  \n",
    "print(\"putting items to the queue:\")  \n",
    "for i in num:  \n",
    "    print('item no: ', count, ' ', i)  \n",
    "    queue.put(i)  \n",
    "    count += 1  \n",
    "  \n",
    "print(\"\\ngettingitems from the queue:\")  \n",
    "count = 0  \n",
    "while not queue.empty():  \n",
    "    print('item no: ', count, ' ', queue.get())  \n",
    "    count += 1"
   ]
  },
  {
   "cell_type": "code",
   "execution_count": null,
   "id": "dc44c660-bdf4-41ea-b57e-e61843a35d6e",
   "metadata": {},
   "outputs": [],
   "source": []
  }
 ],
 "metadata": {
  "kernelspec": {
   "display_name": "Python 3 (ipykernel)",
   "language": "python",
   "name": "python3"
  },
  "language_info": {
   "codemirror_mode": {
    "name": "ipython",
    "version": 3
   },
   "file_extension": ".py",
   "mimetype": "text/x-python",
   "name": "python",
   "nbconvert_exporter": "python",
   "pygments_lexer": "ipython3",
   "version": "3.10.8"
  }
 },
 "nbformat": 4,
 "nbformat_minor": 5
}
