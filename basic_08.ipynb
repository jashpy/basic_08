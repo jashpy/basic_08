{
 "cells": [
  {
   "cell_type": "markdown",
   "id": "98f5f596-654d-43e9-bdec-e31bfeba73c7",
   "metadata": {},
   "source": [
    "problem-1"
   ]
  },
  {
   "cell_type": "code",
   "execution_count": 4,
   "id": "b4014458-8d0d-4412-bb6a-79526d3f50b1",
   "metadata": {},
   "outputs": [
    {
     "data": {
      "text/plain": [
       "'ans-->>EXCEPTION:In normal language we can say that whenever the python scripts deal with a program \\nthat they are unable \\nto solve then they raise a error,we can call it as a python object also.\\n\\ndifferences:\\nexception means some internal operations failed due to which it disturbs normal flow of the program.\\nsynatax error is a type of error and error is something which stops the program from execution.\\n(example like not giving proper notations etc.)'"
      ]
     },
     "execution_count": 4,
     "metadata": {},
     "output_type": "execute_result"
    }
   ],
   "source": [
    "'''ans-->>EXCEPTION:In normal language we can say that whenever the python scripts deal with a program \n",
    "that they are unable \n",
    "to solve then they raise a error,we can call it as a python object also.\n",
    "\n",
    "differences:\n",
    "exception means some internal operations failed due to which it disturbs normal flow of the program.\n",
    "synatax error is a type of error and error is something which stops the program from execution.\n",
    "(example like not giving proper notations etc.)'''\n"
   ]
  },
  {
   "cell_type": "markdown",
   "id": "d22cadc1-e773-4943-91a8-52d82a6a025a",
   "metadata": {},
   "source": [
    "problem-2"
   ]
  },
  {
   "cell_type": "code",
   "execution_count": 5,
   "id": "30544178-1f1c-4dd1-997d-1688b5d13278",
   "metadata": {},
   "outputs": [
    {
     "ename": "ZeroDivisionError",
     "evalue": "division by zero",
     "output_type": "error",
     "traceback": [
      "\u001b[0;31m---------------------------------------------------------------------------\u001b[0m",
      "\u001b[0;31mZeroDivisionError\u001b[0m                         Traceback (most recent call last)",
      "Cell \u001b[0;32mIn[5], line 9\u001b[0m\n\u001b[1;32m      6\u001b[0m \u001b[38;5;28;01mdef\u001b[39;00m \u001b[38;5;21mdiv\u001b[39m(num):\n\u001b[1;32m      7\u001b[0m     \u001b[38;5;28;01mreturn\u001b[39;00m num\u001b[38;5;241m/\u001b[39m\u001b[38;5;241m0\u001b[39m\n\u001b[0;32m----> 9\u001b[0m \u001b[43mdiv\u001b[49m\u001b[43m(\u001b[49m\u001b[38;5;241;43m5\u001b[39;49m\u001b[43m)\u001b[49m              \u001b[38;5;66;03m#it throws an error.we can manage it through error exception.\u001b[39;00m\n",
      "Cell \u001b[0;32mIn[5], line 7\u001b[0m, in \u001b[0;36mdiv\u001b[0;34m(num)\u001b[0m\n\u001b[1;32m      6\u001b[0m \u001b[38;5;28;01mdef\u001b[39;00m \u001b[38;5;21mdiv\u001b[39m(num):\n\u001b[0;32m----> 7\u001b[0m     \u001b[38;5;28;01mreturn\u001b[39;00m \u001b[43mnum\u001b[49m\u001b[38;5;241;43m/\u001b[39;49m\u001b[38;5;241;43m0\u001b[39;49m\n",
      "\u001b[0;31mZeroDivisionError\u001b[0m: division by zero"
     ]
    }
   ],
   "source": [
    "#q2)what happens if the exception is not held?explain with an example.\n",
    "'''ans-->if the exception are not held then the programme will stop giving us an error.\n",
    "\n",
    "example:'''\n",
    "\n",
    "def div(num):\n",
    "    return num/0\n",
    "\n",
    "div(5)              #it throws an error.we can manage it through error exception."
   ]
  },
  {
   "cell_type": "markdown",
   "id": "4dab91d2-b3fd-42e0-a7ba-fc2d19f43c63",
   "metadata": {},
   "source": [
    "problem-3"
   ]
  },
  {
   "cell_type": "code",
   "execution_count": 6,
   "id": "433999f2-7394-49b9-9f55-a9ae20292bb2",
   "metadata": {},
   "outputs": [
    {
     "name": "stdout",
     "output_type": "stream",
     "text": [
      "numbers divided with zero tending to infinity are not defined division by zero\n"
     ]
    }
   ],
   "source": [
    "#q3)which python statements are used to catch and handle exceptions?explain with an example.\n",
    "'''ans-the try and except block are used for this purpose.'''\n",
    "\n",
    "def div(num):\n",
    "    try:\n",
    "        return num/0\n",
    "    except ZeroDivisionError as e:\n",
    "        print(\"numbers divided with zero tending to infinity are not defined\",e)\n",
    "\n",
    "div(5)"
   ]
  },
  {
   "cell_type": "markdown",
   "id": "fcfeb04e-cda9-4e39-a422-e19184060253",
   "metadata": {},
   "source": [
    "problem-4"
   ]
  },
  {
   "cell_type": "code",
   "execution_count": null,
   "id": "cb2cfbc8-f29f-40c6-ae5c-16df3c4d4d48",
   "metadata": {},
   "outputs": [],
   "source": [
    "#q4)explain with an example:"
   ]
  },
  {
   "cell_type": "code",
   "execution_count": 7,
   "id": "67455894-cd79-44d2-88ee-b8ec1227a14f",
   "metadata": {},
   "outputs": [
    {
     "name": "stdout",
     "output_type": "stream",
     "text": [
      "numbers divided with zero tending to infinity are not defined division by zero\n"
     ]
    }
   ],
   "source": [
    "#1)try and else:\n",
    "def div(num):\n",
    "    try:\n",
    "        return num/0\n",
    "    except ZeroDivisionError as e:\n",
    "        print(\"numbers divided with zero tending to infinity are not defined\",e)\n",
    "\n",
    "div(5)"
   ]
  },
  {
   "cell_type": "code",
   "execution_count": 8,
   "id": "761a30b0-770d-440d-a4fd-b6f9d23f8d71",
   "metadata": {},
   "outputs": [
    {
     "name": "stdout",
     "output_type": "stream",
     "text": [
      "numbers divided with zero tending to infinity are not defined division by zero\n",
      "all the blocks are executed now\n"
     ]
    }
   ],
   "source": [
    "#2)finally:\n",
    "def div(num):\n",
    "    try:\n",
    "        return num/0\n",
    "    except ZeroDivisionError as e:\n",
    "        print(\"numbers divided with zero tending to infinity are not defined\",e)\n",
    "    finally:\n",
    "        print(\"all the blocks are executed now\")\n",
    "\n",
    "div(5)\n"
   ]
  },
  {
   "cell_type": "code",
   "execution_count": 9,
   "id": "49e61e81-7ec9-41e0-896b-05f0c24f0e0e",
   "metadata": {},
   "outputs": [
    {
     "name": "stdin",
     "output_type": "stream",
     "text": [
      "enter your name sir: virat\n"
     ]
    },
    {
     "name": "stdout",
     "output_type": "stream",
     "text": [
      "welcome to our website-virat\n"
     ]
    }
   ],
   "source": [
    "#3)raise\n",
    "\n",
    "a=input(\"enter your name sir:\")\n",
    "\n",
    "def greet(name):\n",
    "    if(type(name)==str):\n",
    "        print(\"welcome to our website-\"+name)\n",
    "    else:\n",
    "        raise TypeError(\"only strings class is allowed\")\n",
    "\n",
    "greet(a)\n",
    "        "
   ]
  },
  {
   "cell_type": "markdown",
   "id": "4266156c-3728-431a-8f1d-00fc962d16ef",
   "metadata": {},
   "source": [
    "problem-5"
   ]
  },
  {
   "cell_type": "code",
   "execution_count": 10,
   "id": "c787b1fe-46bf-45e0-9665-8473cd118998",
   "metadata": {},
   "outputs": [
    {
     "name": "stdin",
     "output_type": "stream",
     "text": [
      "enter your age 20\n"
     ]
    },
    {
     "name": "stdout",
     "output_type": "stream",
     "text": [
      "U are perfect for the job\n"
     ]
    }
   ],
   "source": [
    "'''ans-->custom exceptions are user defined exceptions that are created by the programmer itself to \n",
    "handle specific errors.built in exception classes are used.\n",
    "it is a good practise to bulid custom exceptions even when we are writing multiple classes it will increase\n",
    "the \n",
    "readability of the program'''\n",
    "\n",
    "\n",
    "class check_age(Exception):\n",
    "    def __init__(self,msg):\n",
    "        self.msg=msg\n",
    "\n",
    "def check_age1(age):\n",
    "    if(age>30):\n",
    "        raise check_age(\"U are overaged\")\n",
    "    elif(age<30 and age>=20):\n",
    "        raise check_age(\"U are perfect for the job\")\n",
    "    else:\n",
    "        raise check_age(\"U are under-aged\")\n",
    "\n",
    "try :\n",
    "    age = int(input(\"enter your age\" ))\n",
    "    check_age1(age)\n",
    "except check_age as e :\n",
    "    print(e)\n",
    "\n",
    "#entered age is 20"
   ]
  },
  {
   "cell_type": "markdown",
   "id": "d11a5e5a-9831-4c27-8e80-5e27048a2ba2",
   "metadata": {},
   "source": [
    "problem-6"
   ]
  },
  {
   "cell_type": "code",
   "execution_count": 11,
   "id": "2b0b6573-0a8c-410f-8c7e-66f96ffc5d93",
   "metadata": {},
   "outputs": [
    {
     "name": "stdin",
     "output_type": "stream",
     "text": [
      "enter your age 40\n"
     ]
    },
    {
     "name": "stdout",
     "output_type": "stream",
     "text": [
      "U are overaged\n"
     ]
    }
   ],
   "source": [
    "#q6)give an example of custom exception classes and use it to handle an exception:\n",
    "\n",
    "class check_age(Exception):\n",
    "    def __init__(self,msg):\n",
    "        self.msg=msg\n",
    "\n",
    "def check_age1(age):\n",
    "    if(age>30):\n",
    "        raise check_age(\"U are overaged\")\n",
    "    elif(age<30 and age>=20):\n",
    "        raise check_age(\"U are perfect for the job\")\n",
    "    else:\n",
    "        raise check_age(\"U are under-aged\")\n",
    "\n",
    "try :\n",
    "    age = int(input(\"enter your age\" ))\n",
    "    check_age1(age)\n",
    "except check_age as e :\n",
    "    print(e)\n",
    "    \n",
    "#entered age is 40"
   ]
  },
  {
   "cell_type": "code",
   "execution_count": null,
   "id": "4a1189c7-3277-4e83-ad7d-455682d7ed92",
   "metadata": {},
   "outputs": [],
   "source": []
  }
 ],
 "metadata": {
  "kernelspec": {
   "display_name": "Python 3 (ipykernel)",
   "language": "python",
   "name": "python3"
  },
  "language_info": {
   "codemirror_mode": {
    "name": "ipython",
    "version": 3
   },
   "file_extension": ".py",
   "mimetype": "text/x-python",
   "name": "python",
   "nbconvert_exporter": "python",
   "pygments_lexer": "ipython3",
   "version": "3.10.8"
  }
 },
 "nbformat": 4,
 "nbformat_minor": 5
}
